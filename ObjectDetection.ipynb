{
 "cells": [
  {
   "cell_type": "code",
   "execution_count": 1,
   "id": "3127981a",
   "metadata": {},
   "outputs": [
    {
     "name": "stdout",
     "output_type": "stream",
     "text": [
      "Collecting opencv-python\n",
      "  Downloading opencv_python-4.7.0.72-cp37-abi3-win_amd64.whl (38.2 MB)\n",
      "Requirement already satisfied: numpy>=1.17.0 in c:\\users\\janan\\anaconda3\\lib\\site-packages (from opencv-python) (1.21.5)\n",
      "Installing collected packages: opencv-python\n",
      "Successfully installed opencv-python-4.7.0.72\n",
      "Note: you may need to restart the kernel to use updated packages.\n"
     ]
    }
   ],
   "source": [
    "pip install opencv-python"
   ]
  },
  {
   "cell_type": "markdown",
   "id": "c5bb2466",
   "metadata": {},
   "source": [
    "# reading and displaying the image"
   ]
  },
  {
   "cell_type": "code",
   "execution_count": 22,
   "id": "e0f54d8d",
   "metadata": {},
   "outputs": [],
   "source": [
    "import cv2 as cv"
   ]
  },
  {
   "cell_type": "code",
   "execution_count": 50,
   "id": "ff0275f9",
   "metadata": {},
   "outputs": [],
   "source": [
    "img=cv.imread(\"test1.jpg\")"
   ]
  },
  {
   "cell_type": "code",
   "execution_count": 51,
   "id": "2b21860e",
   "metadata": {},
   "outputs": [],
   "source": [
    "#cv.imshow(\"output\",img)\n",
    "#cv.waitKey(0)"
   ]
  },
  {
   "cell_type": "code",
   "execution_count": 52,
   "id": "bddc1eca",
   "metadata": {},
   "outputs": [],
   "source": [
    "classnames=[]\n",
    "classFile = 'names'\n",
    "with open(classFile,'rt') as f:\n",
    "    classnames = f.read().rstrip('\\n').split('\\n')\n"
   ]
  },
  {
   "cell_type": "code",
   "execution_count": 53,
   "id": "390e0f80",
   "metadata": {},
   "outputs": [
    {
     "name": "stdout",
     "output_type": "stream",
     "text": [
      "['person', 'bicycle', 'car', 'motorcycle', 'airplane', 'bus', 'train', 'truck', 'boat', 'traffic light', 'fire hydrant', 'street sign', 'stop sign', 'parking meter', 'bench', 'bird', 'cat', 'dog', 'horse', 'sheep', 'cow', 'elephant', 'bear', 'zebra', 'giraffe', 'hat', 'backpack', 'umbrella', 'shoe', 'eye glasses', 'handbag', 'tie', 'suitcase', 'frisbee', 'skis', 'snowboard', 'sports ball', 'kite', 'baseball bat', 'baseball glove', 'skateboard', 'surfboard', 'tennis racket', 'bottle', 'plate', 'wine glass', 'cup', 'fork', 'knife', 'spoon', 'bowl', 'banana', 'apple', 'sandwich', 'orange', 'broccoli', 'carrot', 'hot dog', 'pizza', 'donut', 'cake', 'chair', 'couch', 'potted plant', 'bed', 'mirror', 'dining table', 'window', 'desk', 'toilet', 'door', 'tv', 'laptop', 'mouse', 'remote', 'keyboard', 'cell phone', 'microwave', 'oven', 'toaster', 'sink', 'refrigerator', 'blender', 'book', 'clock', 'vase', 'scissors', 'teddy bear', 'hair drier', 'toothbrush', 'hair brush']\n"
     ]
    }
   ],
   "source": [
    "print(classnames)"
   ]
  },
  {
   "cell_type": "code",
   "execution_count": 54,
   "id": "f2d449de",
   "metadata": {},
   "outputs": [],
   "source": [
    "config_path='features.pbtxt'\n",
    "weightspath='frozen_inference_graph.pb'\n",
    "net=cv.dnn_DetectionModel(weightspath,config_path)"
   ]
  },
  {
   "cell_type": "code",
   "execution_count": 55,
   "id": "474a634e",
   "metadata": {},
   "outputs": [
    {
     "data": {
      "text/plain": [
       "< cv2.dnn.Model 000002D69EE10470>"
      ]
     },
     "execution_count": 55,
     "metadata": {},
     "output_type": "execute_result"
    }
   ],
   "source": [
    "net.setInputSize(320,320)\n",
    "net.setInputScale(1.0/ 127.5)\n",
    "net.setInputMean((127.5, 127.5, 127.5))\n",
    "net.setInputSwapRB(True)"
   ]
  },
  {
   "cell_type": "code",
   "execution_count": 56,
   "id": "b32022ca",
   "metadata": {},
   "outputs": [
    {
     "name": "stdout",
     "output_type": "stream",
     "text": [
      "[28  1  7  7] [[  0  57 160 237]\n",
      " [ 38 115 137 457]\n",
      " [187 120 196 326]\n",
      " [204 174 177 197]]\n"
     ]
    }
   ],
   "source": [
    "classIds, confs, bbox = net.detect(img,confThreshold=0.5)\n",
    "\n",
    "print(classIds,bbox)"
   ]
  },
  {
   "cell_type": "code",
   "execution_count": null,
   "id": "e4e9386d",
   "metadata": {},
   "outputs": [],
   "source": []
  },
  {
   "cell_type": "code",
   "execution_count": 57,
   "id": "97ce16d5",
   "metadata": {},
   "outputs": [],
   "source": [
    "if len(classIds) != 0:\n",
    "    for classId, confidence,box in zip(classIds.flatten(),confs.flatten(),bbox):\n",
    "        cv.rectangle(img,box,color=(0,255,0),thickness=2)\n",
    "        cv.putText(img,classnames[classId-1].upper(),(box[0]+10,box[1]+30),\n",
    "            cv.FONT_HERSHEY_COMPLEX,1,(0,255,0),2)\n",
    "        cv.putText(img,str(round(confidence*100,2)),(box[0]+200,box[1]+30),\n",
    "            cv.FONT_HERSHEY_COMPLEX,1,(0,255,0),2)"
   ]
  },
  {
   "cell_type": "code",
   "execution_count": 58,
   "id": "3fc3f00d",
   "metadata": {},
   "outputs": [
    {
     "data": {
      "text/plain": [
       "-1"
      ]
     },
     "execution_count": 58,
     "metadata": {},
     "output_type": "execute_result"
    }
   ],
   "source": [
    "cv.imshow(\"output\",img)\n",
    "cv.waitKey(0)"
   ]
  },
  {
   "cell_type": "code",
   "execution_count": null,
   "id": "5b1ed892",
   "metadata": {},
   "outputs": [],
   "source": []
  },
  {
   "cell_type": "code",
   "execution_count": null,
   "id": "783e5627",
   "metadata": {},
   "outputs": [],
   "source": []
  }
 ],
 "metadata": {
  "kernelspec": {
   "display_name": "Python 3 (ipykernel)",
   "language": "python",
   "name": "python3"
  },
  "language_info": {
   "codemirror_mode": {
    "name": "ipython",
    "version": 3
   },
   "file_extension": ".py",
   "mimetype": "text/x-python",
   "name": "python",
   "nbconvert_exporter": "python",
   "pygments_lexer": "ipython3",
   "version": "3.9.12"
  }
 },
 "nbformat": 4,
 "nbformat_minor": 5
}
