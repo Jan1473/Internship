{
 "cells": [
  {
   "cell_type": "code",
   "execution_count": 2,
   "id": "8cb0f9ec",
   "metadata": {},
   "outputs": [],
   "source": [
    "import re\n",
    "from pdfminer.high_level import extract_pages,extract_text"
   ]
  },
  {
   "cell_type": "raw",
   "id": "edae4990",
   "metadata": {},
   "source": [
    "# for page_layout in extract_pages(\"AmazonWebServices.pdf\"):\n",
    "    for element in page_layout:\n",
    "        print(element)"
   ]
  },
  {
   "cell_type": "code",
   "execution_count": 3,
   "id": "1cec6945",
   "metadata": {},
   "outputs": [
    {
     "name": "stdout",
     "output_type": "stream",
     "text": [
      "Account number:\n",
      "296664039561\n",
      "\n",
      "Bill to Address:\n",
      "ATTN: iViveLabs Limited\n",
      "93B Sai Yu Chung\n",
      "Yuen Long, N.T., 0000, HK\n",
      "\n",
      "Amazon Web Services Invoice\n",
      "Email or talk to us about your AWS account or bill, visit aws.amazon.com/contact-us/\n",
      "\n",
      "Invoice Summary\n",
      "\n",
      "Invoice Number:\n",
      "Invoice Date:\n",
      "\n",
      "TOTAL AMOUNT DUE ON August 3 , 2014\n",
      "\n",
      "42183017\n",
      "August 3 , 2014\n",
      "\n",
      "$4.11\n",
      "\n",
      "This invoice is for the billing period July 1 - July 31 , 2014\n",
      "\n",
      "Greetings from Amazon Web Services, we're writing to provide you with an electronic invoice for your use of AWS services. Additional information\n",
      "regarding your bill, individual service charge details, and your account history are available on the Account Activity Page.\n",
      "\n",
      "Summary\n",
      "\n",
      "AWS Service Charges\n",
      "\n",
      "Charges\n",
      "\n",
      "Credits\n",
      "\n",
      "Tax *\n",
      "\n",
      "Total for this invoice\n",
      "\n",
      "Detail\n",
      "\n",
      "AWS Data Transfer\n",
      "\n",
      "Charges\n",
      "\n",
      "VAT **\n",
      "\n",
      "Amazon Elastic Compute Cloud\n",
      "\n",
      "Charges\n",
      "\n",
      "VAT **\n",
      "\n",
      "Amazon Glacier\n",
      "\n",
      "Charges\n",
      "\n",
      "VAT **\n",
      "\n",
      "Amazon Simple Storage Service\n",
      "\n",
      "Charges\n",
      "\n",
      "VAT **\n",
      "\n",
      "$4.11\n",
      "\n",
      "$4.11\n",
      "\n",
      "$0.00\n",
      "\n",
      "$0.00\n",
      "\n",
      "$4.11\n",
      "\n",
      "$0.01\n",
      "\n",
      "$0.01\n",
      "\n",
      "$0.00\n",
      "\n",
      "$1.87\n",
      "\n",
      "$1.87\n",
      "\n",
      "$0.00\n",
      "\n",
      "$2.22\n",
      "\n",
      "$2.22\n",
      "\n",
      "$0.00\n",
      "\n",
      "$0.01\n",
      "\n",
      "$0.01\n",
      "\n",
      "$0.00\n",
      "\n",
      "* May include estimated US sales tax, VAT, GST and CT\n",
      "** This is not a VAT invoice\n",
      "*** Check the GST statement attached at the end of this Invoice\n",
      "for details\n",
      "† Usage and recurring charges for this statement period will be charged on\n",
      "your next billing date. The amount of your actual charges for this statement\n",
      "period may differ from the charges shown on this page. The charges\n",
      "shown on this page do not include any additional usage charges accrued\n",
      "during this statement period after the date you are viewing this page. Also,\n",
      "one-time fees and subscription charges are assessed separately, on the\n",
      "date that they occur.\n",
      "All charges and prices are in US Dollars\n",
      "All AWS Services are sold by Amazon Web Services, Inc.\n",
      "\n",
      "Service Provider:\n",
      "(Not to be used for payment remittance)\n",
      "Amazon Web Services, Inc.\n",
      "410 Terry Ave North\n",
      "Seattle, WA  98109-5210, US\n",
      "\n",
      "1\n",
      "\n",
      "\f",
      "\n"
     ]
    }
   ],
   "source": [
    "text=extract_text(\"AmazonWebServices.pdf\")\n",
    "print(text)"
   ]
  },
  {
   "cell_type": "code",
   "execution_count": 4,
   "id": "7d6708fb",
   "metadata": {},
   "outputs": [],
   "source": [
    "import re\n",
    "invoice_no=re.compile(r'^\\d{8}')\n",
    "INVOICE_NO=0"
   ]
  },
  {
   "cell_type": "code",
   "execution_count": 5,
   "id": "e61107a4",
   "metadata": {},
   "outputs": [],
   "source": [
    "for line in text.split('\\n'):\n",
    "    if invoice_no.match(line):\n",
    "        INVOICE_NO=line"
   ]
  },
  {
   "cell_type": "code",
   "execution_count": 6,
   "id": "0538b470",
   "metadata": {},
   "outputs": [
    {
     "data": {
      "text/plain": [
       "'42183017'"
      ]
     },
     "execution_count": 6,
     "metadata": {},
     "output_type": "execute_result"
    }
   ],
   "source": [
    "INVOICE_NO"
   ]
  },
  {
   "cell_type": "code",
   "execution_count": 7,
   "id": "5b91ce79",
   "metadata": {},
   "outputs": [],
   "source": [
    "date=re.compile(r\"[a-zA-Z]+\\s\\d\\s,\\s\\d{4}\")\n",
    "Date=0"
   ]
  },
  {
   "cell_type": "code",
   "execution_count": 8,
   "id": "3d6d4bbd",
   "metadata": {},
   "outputs": [],
   "source": [
    "for line1 in text.split('\\n'):\n",
    "    if date.match(line1):\n",
    "        Date=line1     "
   ]
  },
  {
   "cell_type": "code",
   "execution_count": 9,
   "id": "3cf04c25",
   "metadata": {},
   "outputs": [
    {
     "data": {
      "text/plain": [
       "'August 3 , 2014'"
      ]
     },
     "execution_count": 9,
     "metadata": {},
     "output_type": "execute_result"
    }
   ],
   "source": [
    "Date"
   ]
  },
  {
   "cell_type": "code",
   "execution_count": 10,
   "id": "e686e623",
   "metadata": {},
   "outputs": [],
   "source": [
    "tot1=re.compile(r\"[$]\\d.\\d{2}\")\n",
    "tot=0\n",
    "m=0\n",
    "for line3 in text.split('\\n'):\n",
    "    if tot1.match(line3):\n",
    "        my_float = float(line3.replace('$', ''))\n",
    "        if my_float>m:\n",
    "            m=my_float\n",
    "        "
   ]
  },
  {
   "cell_type": "code",
   "execution_count": 11,
   "id": "cd911e31",
   "metadata": {},
   "outputs": [
    {
     "name": "stdout",
     "output_type": "stream",
     "text": [
      "Invoice_number: 42183017\n",
      "Date: August 3 , 2014\n",
      "Total Amount: 4.11\n"
     ]
    }
   ],
   "source": [
    "print(\"Invoice_number:\",INVOICE_NO)\n",
    "print(\"Date:\",Date)\n",
    "print(\"Total Amount:\",m)"
   ]
  },
  {
   "cell_type": "code",
   "execution_count": 12,
   "id": "d122b87a",
   "metadata": {},
   "outputs": [
    {
     "name": "stdout",
     "output_type": "stream",
     "text": [
      "Requirement already satisfied: pytesseract in c:\\users\\janan\\anaconda3\\lib\\site-packages (0.3.10)\n",
      "Requirement already satisfied: Pillow in c:\\users\\janan\\anaconda3\\lib\\site-packages (9.0.1)\n",
      "Requirement already satisfied: packaging>=21.3 in c:\\users\\janan\\anaconda3\\lib\\site-packages (from pytesseract) (21.3)\n",
      "Requirement already satisfied: pyparsing!=3.0.5,>=2.0.2 in c:\\users\\janan\\anaconda3\\lib\\site-packages (from packaging>=21.3->pytesseract) (3.0.4)\n",
      "Note: you may need to restart the kernel to use updated packages.\n"
     ]
    }
   ],
   "source": [
    "pip install pytesseract Pillow\n"
   ]
  },
  {
   "cell_type": "code",
   "execution_count": 13,
   "id": "44810bfa",
   "metadata": {},
   "outputs": [
    {
     "name": "stdout",
     "output_type": "stream",
     "text": [
      "['account', 'number', 'bill', 'address', 'attn', 'ivivelabs', 'limited', 'sai', 'yu', 'chung', 'yuen', 'long', 'hk', 'amazon', 'web', 'services', 'invoice', 'email', 'talk', 'us', 'aws', 'account', 'bill', 'visit', 'invoice', 'summary', 'invoice', 'number', 'invoice', 'date', 'total', 'amount', 'due', 'august', 'august', 'invoice', 'billing', 'period', 'july', 'july', 'greetings', 'amazon', 'web', 'services', 'writing', 'provide', 'electronic', 'invoice', 'use', 'aws', 'services', 'additional', 'information', 'regarding', 'bill', 'individual', 'service', 'charge', 'details', 'account', 'history', 'available', 'account', 'activity', 'page', 'summary', 'aws', 'service', 'charges', 'charges', 'credits', 'tax', 'total', 'invoice', 'detail', 'aws', 'data', 'transfer', 'charges', 'vat', 'amazon', 'elastic', 'compute', 'cloud', 'charges', 'vat', 'amazon', 'glacier', 'charges', 'vat', 'amazon', 'simple', 'storage', 'service', 'charges', 'vat', 'may', 'include', 'estimated', 'us', 'sales', 'tax', 'vat', 'gst', 'ct', 'vat', 'invoice', 'check', 'gst', 'statement', 'attached', 'end', 'invoice', 'details', 'usage', 'recurring', 'charges', 'statement', 'period', 'charged', 'next', 'billing', 'date', 'amount', 'actual', 'charges', 'statement', 'period', 'may', 'differ', 'charges', 'shown', 'page', 'charges', 'shown', 'page', 'include', 'additional', 'usage', 'charges', 'accrued', 'statement', 'period', 'date', 'viewing', 'page', 'also', 'fees', 'subscription', 'charges', 'assessed', 'separately', 'date', 'occur', 'charges', 'prices', 'us', 'dollars', 'aws', 'services', 'sold', 'amazon', 'web', 'services', 'service', 'provider', 'used', 'payment', 'remittance', 'amazon', 'web', 'services', 'terry', 'ave', 'north', 'seattle', 'wa', 'us']\n"
     ]
    },
    {
     "name": "stderr",
     "output_type": "stream",
     "text": [
      "[nltk_data] Downloading package punkt to\n",
      "[nltk_data]     C:\\Users\\janan\\AppData\\Roaming\\nltk_data...\n",
      "[nltk_data]   Package punkt is already up-to-date!\n"
     ]
    }
   ],
   "source": [
    "import nltk\n",
    "nltk.download('punkt')\n",
    "from nltk.tokenize import word_tokenize\n",
    "from nltk.corpus import stopwords\n",
    "tokens = word_tokenize(text)\n",
    "stop_words = set(stopwords.words('english'))\n",
    "filtered_text = [word for word in tokens if not word.lower() in stop_words]\n",
    "clean_text = [word.lower() for word in filtered_text if word.isalpha()]\n",
    "print(clean_text)\n"
   ]
  },
  {
   "cell_type": "code",
   "execution_count": 14,
   "id": "db980d05",
   "metadata": {},
   "outputs": [
    {
     "name": "stdout",
     "output_type": "stream",
     "text": [
      "Requirement already satisfied: PyMuPDF in c:\\users\\janan\\anaconda3\\lib\\site-packages (1.22.3)\n",
      "Note: you may need to restart the kernel to use updated packages.\n"
     ]
    }
   ],
   "source": [
    "pip install PyMuPDF"
   ]
  },
  {
   "cell_type": "code",
   "execution_count": 15,
   "id": "7f797d1d",
   "metadata": {},
   "outputs": [
    {
     "name": "stdout",
     "output_type": "stream",
     "text": [
      "Requirement already satisfied: pillow in c:\\users\\janan\\anaconda3\\lib\\site-packages (9.0.1)\n",
      "Note: you may need to restart the kernel to use updated packages.\n"
     ]
    }
   ],
   "source": [
    "pip install pillow"
   ]
  },
  {
   "cell_type": "code",
   "execution_count": 13,
   "id": "f40c536c",
   "metadata": {},
   "outputs": [],
   "source": [
    "import fitz\n",
    "import cv2"
   ]
  },
  {
   "cell_type": "code",
   "execution_count": 8,
   "id": "dad5d321",
   "metadata": {},
   "outputs": [],
   "source": [
    "import PIL.Image"
   ]
  },
  {
   "cell_type": "code",
   "execution_count": 9,
   "id": "c0361371",
   "metadata": {},
   "outputs": [],
   "source": [
    "import io"
   ]
  },
  {
   "cell_type": "code",
   "execution_count": 12,
   "id": "d8588003",
   "metadata": {},
   "outputs": [],
   "source": [
    "pdf=fitz.open(\"AmazonWebServices.pdf\")\n",
    "counter=1\n",
    "for i in range(len(pdf)):\n",
    "    page=pdf[i]\n",
    "    images=page.get_images()\n",
    "    for image in images:\n",
    "        base_img=pdf.extract_image(image[0])\n",
    "        image_data=base_img[\"image\"]\n",
    "        img=PIL.Image.open(io.BytesIO(image_data))\n",
    "        extension=base_img[\"ext\"]\n",
    "        img.save(open(f\"image{counter}.{extension}\",\"wb\"))\n",
    "        counter+=1"
   ]
  },
  {
   "cell_type": "code",
   "execution_count": 1,
   "id": "84a95fa3",
   "metadata": {},
   "outputs": [
    {
     "name": "stdout",
     "output_type": "stream",
     "text": [
      "Requirement already satisfied: tabula-py in c:\\users\\janan\\anaconda3\\lib\\site-packages (2.7.0)\n",
      "Requirement already satisfied: distro in c:\\users\\janan\\anaconda3\\lib\\site-packages (from tabula-py) (1.8.0)\n",
      "Requirement already satisfied: pandas>=0.25.3 in c:\\users\\janan\\anaconda3\\lib\\site-packages (from tabula-py) (1.4.2)\n",
      "Requirement already satisfied: numpy in c:\\users\\janan\\anaconda3\\lib\\site-packages (from tabula-py) (1.21.5)\n",
      "Requirement already satisfied: python-dateutil>=2.8.1 in c:\\users\\janan\\anaconda3\\lib\\site-packages (from pandas>=0.25.3->tabula-py) (2.8.2)\n",
      "Requirement already satisfied: pytz>=2020.1 in c:\\users\\janan\\anaconda3\\lib\\site-packages (from pandas>=0.25.3->tabula-py) (2021.3)\n",
      "Requirement already satisfied: six>=1.5 in c:\\users\\janan\\anaconda3\\lib\\site-packages (from python-dateutil>=2.8.1->pandas>=0.25.3->tabula-py) (1.16.0)\n",
      "Note: you may need to restart the kernel to use updated packages.\n"
     ]
    }
   ],
   "source": [
    "pip install tabula-py"
   ]
  },
  {
   "cell_type": "code",
   "execution_count": 2,
   "id": "e509307f",
   "metadata": {},
   "outputs": [],
   "source": [
    "import tabula"
   ]
  },
  {
   "cell_type": "code",
   "execution_count": 5,
   "id": "19d58528",
   "metadata": {},
   "outputs": [
    {
     "name": "stderr",
     "output_type": "stream",
     "text": [
      "Got stderr: Jun 09, 2023 3:04:33 PM org.apache.pdfbox.pdmodel.font.FileSystemFontProvider loadDiskCache\r\n",
      "WARNING: New fonts found, font cache will be re-built\r\n",
      "Jun 09, 2023 3:04:33 PM org.apache.pdfbox.pdmodel.font.FileSystemFontProvider <init>\r\n",
      "WARNING: Building on-disk font cache, this may take a while\r\n",
      "Jun 09, 2023 3:04:34 PM org.apache.pdfbox.pdmodel.font.FileSystemFontProvider <init>\r\n",
      "WARNING: Finished building on-disk font cache, found 363 fonts\r\n",
      "\n"
     ]
    },
    {
     "name": "stdout",
     "output_type": "stream",
     "text": [
      "[                    Summary Unnamed: 0\n",
      "0  AWS Service Charges$4.11        NaN\n",
      "1              Charges$4.11        NaN\n",
      "2              Credits$0.00        NaN\n",
      "3                Tax *$0.00        NaN\n",
      "4    Total for this invoice      $4.11,                                 Detail\n",
      "0               AWS Data Transfer$0.01\n",
      "1                         Charges$0.01\n",
      "2                          VAT **$0.00\n",
      "3    Amazon Elastic Compute Cloud$1.87\n",
      "4                         Charges$1.87\n",
      "5                          VAT **$0.00\n",
      "6                  Amazon Glacier$2.22\n",
      "7                         Charges$2.22\n",
      "8                          VAT **$0.00\n",
      "9   Amazon Simple Storage Service$0.01\n",
      "10                        Charges$0.01\n",
      "11                         VAT **$0.00]\n"
     ]
    }
   ],
   "source": [
    "tables=tabula.read_pdf(\"AmazonWebServices.pdf\",pages=\"all\")\n",
    "print(tables)"
   ]
  },
  {
   "cell_type": "code",
   "execution_count": null,
   "id": "92162134",
   "metadata": {},
   "outputs": [],
   "source": []
  }
 ],
 "metadata": {
  "kernelspec": {
   "display_name": "Python 3 (ipykernel)",
   "language": "python",
   "name": "python3"
  },
  "language_info": {
   "codemirror_mode": {
    "name": "ipython",
    "version": 3
   },
   "file_extension": ".py",
   "mimetype": "text/x-python",
   "name": "python",
   "nbconvert_exporter": "python",
   "pygments_lexer": "ipython3",
   "version": "3.9.12"
  }
 },
 "nbformat": 4,
 "nbformat_minor": 5
}
